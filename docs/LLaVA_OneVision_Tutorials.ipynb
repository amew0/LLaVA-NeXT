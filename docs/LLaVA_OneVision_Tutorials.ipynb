{
 "cells": [
  {
   "cell_type": "markdown",
   "metadata": {},
   "source": [
    "# (Frustratingly Easy) LLaVA OneVision Tutorial\n",
    "\n",
    "We know that it's always beneficial to have a unified interface for different tasks. So we are trying to unify the interface for image, text, image-text interleaved, and video input. And in this tutorial, we aim to provide the most straightforward way to use our model. \n",
    "\n",
    "We use our 0.5B version as an example. This could be running on a GPU with 4GB memory. And with the following examples, you could see it's surprisingly have promising performance on understanding the image, interleaved image-text, and video. Tiny but mighty!\n",
    "\n",
    "The same code could be used for 7B model as well.\n",
    "\n",
    "## Inference Guidance\n",
    "\n",
    "First please install our repo with code and environments: pip install git+https://github.com/LLaVA-VL/LLaVA-NeXT.git\n",
    "\n",
    "Here is a quick inference code using [lmms-lab/qwen2-0.5b-si](https://huggingface.co/lmms-lab/llava-onevision-qwen2-0.5b-si) as an example. You will need to install `flash-attn` to use this code snippet. If you don't want to install it, you can set `attn_implementation=None` when load_pretrained_model"
   ]
  },
  {
   "cell_type": "markdown",
   "metadata": {},
   "source": [
    "### Image Input\n",
    "Tackling the single image input with LLaVA OneVision is pretty straightforward."
   ]
  },
  {
   "cell_type": "code",
   "execution_count": null,
   "metadata": {},
   "outputs": [],
   "source": [
    "import torch\n",
    "torch.cuda.is_available()"
   ]
  },
  {
   "cell_type": "code",
   "execution_count": null,
   "metadata": {},
   "outputs": [],
   "source": [
    "from llava.model.builder import load_pretrained_model\n",
    "from llava.mm_utils import get_model_name_from_path, process_images, tokenizer_image_token\n",
    "from llava.constants import IMAGE_TOKEN_INDEX, DEFAULT_IMAGE_TOKEN, DEFAULT_IM_START_TOKEN, DEFAULT_IM_END_TOKEN, IGNORE_INDEX\n",
    "from llava.conversation import conv_templates, SeparatorStyle\n",
    "\n",
    "from PIL import Image\n",
    "import requests\n",
    "import copy\n",
    "import torch\n",
    "\n",
    "import sys\n",
    "import warnings\n",
    "\n",
    "warnings.filterwarnings(\"ignore\")\n",
    "model_path = \"lmms-lab/llava-onevision-qwen2-0.5b-si\"\n",
    "model_name = \"llava_qwen\"\n",
    "device = \"cuda\"\n",
    "device_map = \"auto\"\n",
    "cache_dir = \"/dpc/kunf0097/cache/models\"\n",
    "tokenizer, model, image_processor, max_length = load_pretrained_model(model_path, None, model_name, device_map=device_map, cache_dir=cache_dir)  # Add any other thing you want to pass in llava_model_args\n",
    "\n",
    "model.eval()"
   ]
  },
  {
   "cell_type": "code",
   "execution_count": null,
   "metadata": {},
   "outputs": [],
   "source": [
    "\n",
    "\n",
    "url = \"https://github.com/haotian-liu/LLaVA/blob/1a91fc274d7c35a9b50b3cb29c4247ae5837ce39/images/llava_v1_5_radar.jpg?raw=true\"\n",
    "image = Image.open(requests.get(url, stream=True).raw)\n",
    "image_tensor = process_images([image], image_processor, model.config)\n",
    "image_tensor = [_image.to(dtype=torch.float16, device=device) for _image in image_tensor]\n",
    "\n",
    "conv_template = \"qwen_1_5\"  # Make sure you use correct chat template for different models\n",
    "question = DEFAULT_IMAGE_TOKEN + \"\\nWhat is shown in this image?\"\n",
    "conv = copy.deepcopy(conv_templates[conv_template])\n",
    "conv.append_message(conv.roles[0], question)\n",
    "conv.append_message(conv.roles[1], None)\n",
    "prompt_question = conv.get_prompt()\n",
    "\n",
    "input_ids = tokenizer_image_token(prompt_question, tokenizer, IMAGE_TOKEN_INDEX, return_tensors=\"pt\").unsqueeze(0).to(device)\n",
    "image_sizes = [image.size]\n",
    "\n",
    "\n",
    "cont = model.generate(\n",
    "    input_ids,\n",
    "    images=image_tensor,\n",
    "    image_sizes=image_sizes,\n",
    "    do_sample=False,\n",
    "    temperature=0,\n",
    "    max_new_tokens=4096,\n",
    ")\n",
    "text_outputs = tokenizer.batch_decode(cont, skip_special_tokens=True)\n",
    "print(text_outputs)"
   ]
  },
  {
   "cell_type": "markdown",
   "metadata": {},
   "source": [
    "You could use the following code to make it streaming in terminal, this would be pretty useful when creating a chatbot."
   ]
  },
  {
   "cell_type": "code",
   "execution_count": null,
   "metadata": {},
   "outputs": [],
   "source": [
    "from threading import Thread\n",
    "from transformers import TextIteratorStreamer\n",
    "import json\n",
    "\n",
    "url = \"https://github.com/haotian-liu/LLaVA/blob/1a91fc274d7c35a9b50b3cb29c4247ae5837ce39/images/llava_v1_5_radar.jpg?raw=true\"\n",
    "image = Image.open(requests.get(url, stream=True).raw)\n",
    "image_tensor = process_images([image], image_processor, model.config)\n",
    "image_tensor = [_image.to(dtype=torch.float16, device=device) for _image in image_tensor]\n",
    "\n",
    "conv_template = \"qwen_1_5\"\n",
    "question = DEFAULT_IMAGE_TOKEN + \"\\nWhat is shown in this image?\"\n",
    "conv = copy.deepcopy(conv_templates[conv_template])\n",
    "conv.append_message(conv.roles[0], question)\n",
    "conv.append_message(conv.roles[1], None)\n",
    "prompt_question = conv.get_prompt()\n",
    "\n",
    "input_ids = tokenizer_image_token(prompt_question, tokenizer, IMAGE_TOKEN_INDEX, return_tensors=\"pt\").unsqueeze(0).to(device)\n",
    "image_sizes = [image.size]\n",
    "\n",
    "max_context_length = getattr(model.config, \"max_position_embeddings\", 2048)\n",
    "num_image_tokens = question.count(DEFAULT_IMAGE_TOKEN) * model.get_vision_tower().num_patches\n",
    "\n",
    "streamer = TextIteratorStreamer(tokenizer, skip_prompt=True, skip_special_tokens=True, timeout=15)\n",
    "\n",
    "max_new_tokens = min(4096, max_context_length - input_ids.shape[-1] - num_image_tokens)\n",
    "\n",
    "if max_new_tokens < 1:\n",
    "    print(\n",
    "        json.dumps(\n",
    "            {\n",
    "                \"text\": question + \"Exceeds max token length. Please start a new conversation, thanks.\",\n",
    "                \"error_code\": 0,\n",
    "            }\n",
    "        )\n",
    "    )\n",
    "else:\n",
    "    gen_kwargs = {\n",
    "        \"do_sample\": False,\n",
    "        \"temperature\": 0,\n",
    "        \"max_new_tokens\": max_new_tokens,\n",
    "        \"images\": image_tensor,\n",
    "        \"image_sizes\": image_sizes,\n",
    "    }\n",
    "\n",
    "    thread = Thread(\n",
    "        target=model.generate,\n",
    "        kwargs=dict(\n",
    "            inputs=input_ids,\n",
    "            streamer=streamer,\n",
    "            **gen_kwargs,\n",
    "        ),\n",
    "    )\n",
    "    thread.start()\n",
    "\n",
    "    generated_text = \"\"\n",
    "    for new_text in streamer:\n",
    "        generated_text += new_text\n",
    "        print(generated_text, flush=True)\n",
    "        # print(json.dumps({\"text\": generated_text, \"error_code\": 0}), flush=True)\n",
    "\n",
    "    print(\"Final output:\", generated_text)"
   ]
  },
  {
   "cell_type": "markdown",
   "metadata": {},
   "source": [
    "### Image-Text Interleaved Input\n",
    "\n",
    "Now switching to our onevision model for more complex tasks. You should start to use `llava-onevision-qwen2-0.5b-ov` for image-text interleaved input and video input.\n",
    "\n",
    "Processing image-text interleaved input is a bit more complicated. But following the code below should work."
   ]
  },
  {
   "cell_type": "code",
   "execution_count": null,
   "metadata": {},
   "outputs": [],
   "source": [
    "# Load model\n",
    "model_path = \"lmms-lab/llava-onevision-qwen2-0.5b-ov\"\n",
    "model_name = \"llava_qwen\"\n",
    "device = \"cuda\"\n",
    "device_map = \"auto\"\n",
    "llava_model_args = {\n",
    "        \"multimodal\": True,\n",
    "    }\n",
    "overwrite_config = {}\n",
    "overwrite_config[\"image_aspect_ratio\"] = \"pad\"\n",
    "llava_model_args[\"overwrite_config\"] = overwrite_config\n",
    "tokenizer, model, image_processor, max_length = load_pretrained_model(model_path, None, model_name, device_map=device_map, **llava_model_args)\n",
    "\n",
    "model.eval()\n",
    "\n",
    "# Load two images\n",
    "url1 = \"https://github.com/haotian-liu/LLaVA/blob/1a91fc274d7c35a9b50b3cb29c4247ae5837ce39/images/llava_v1_5_radar.jpg?raw=true\"\n",
    "url2 = \"https://raw.githubusercontent.com/haotian-liu/LLaVA/main/images/llava_logo.png\"\n",
    "\n",
    "image1 = Image.open(requests.get(url1, stream=True).raw)\n",
    "image2 = Image.open(requests.get(url2, stream=True).raw)\n",
    "\n",
    "images = [image1, image2]\n",
    "image_tensors = process_images(images, image_processor, model.config)\n",
    "image_tensors = [_image.to(dtype=torch.float16, device=device) for _image in image_tensors]\n",
    "\n",
    "# Prepare interleaved text-image input\n",
    "conv_template = \"qwen_1_5\"\n",
    "question = f\"{DEFAULT_IMAGE_TOKEN} This is the first image. Can you describe what you see?\\n\\nNow, let's look at another image: {DEFAULT_IMAGE_TOKEN}\\nWhat's the difference between these two images?\"\n",
    "\n",
    "conv = copy.deepcopy(conv_templates[conv_template])\n",
    "conv.append_message(conv.roles[0], question)\n",
    "conv.append_message(conv.roles[1], None)\n",
    "prompt_question = conv.get_prompt()\n",
    "\n",
    "input_ids = tokenizer_image_token(prompt_question, tokenizer, IMAGE_TOKEN_INDEX, return_tensors=\"pt\").unsqueeze(0).to(device)\n",
    "image_sizes = [image.size for image in images]\n",
    "\n",
    "# Generate response\n",
    "cont = model.generate(\n",
    "    input_ids,\n",
    "    images=image_tensors,\n",
    "    image_sizes=image_sizes,\n",
    "    do_sample=False,\n",
    "    temperature=0,\n",
    "    max_new_tokens=4096,\n",
    ")\n",
    "text_outputs = tokenizer.batch_decode(cont, skip_special_tokens=True)\n",
    "print(text_outputs[0])"
   ]
  },
  {
   "cell_type": "markdown",
   "metadata": {},
   "source": [
    "### Video Input\n",
    "\n",
    "Now let's try video input. It's the same as image input, but you need to pass in a list of video frames. And remember to set the `<image>` token only once in the prompt, e.g. \"<image>\\nWhat is shown in this video?\", not \"<image>\\n<image>\\n<image>\\nWhat is shown in this video?\". Since we trained on this format, it's important to keep the format consistent."
   ]
  },
  {
   "cell_type": "code",
   "execution_count": null,
   "metadata": {},
   "outputs": [],
   "source": [
    "import torch\n",
    "torch.cuda.device_count()"
   ]
  },
  {
   "cell_type": "code",
   "execution_count": null,
   "metadata": {},
   "outputs": [],
   "source": [
    "from llava.model import *\n",
    "LlavaQwenForCausalLM.from_pretrained(model_path)"
   ]
  },
  {
   "cell_type": "code",
   "execution_count": 2,
   "metadata": {},
   "outputs": [
    {
     "name": "stdout",
     "output_type": "stream",
     "text": [
      "{'device_map': {'': 0}, 'torch_dtype': torch.float16}\n"
     ]
    },
    {
     "name": "stderr",
     "output_type": "stream",
     "text": [
      "You are using a model of type llava to instantiate a model of type llava_qwen. This is not supported for all configurations of models and can yield errors.\n"
     ]
    },
    {
     "name": "stdout",
     "output_type": "stream",
     "text": [
      "Loading vision tower: google/siglip-so400m-patch14-384\n",
      "Model Class: LlavaQwenForCausalLM\n"
     ]
    }
   ],
   "source": [
    "from llava.model.builder import load_pretrained_model, load_pretrained_model_simplified, connect_parent_lm_head\n",
    "from llava.mm_utils import tokenizer_image_token\n",
    "from llava.constants import IMAGE_TOKEN_INDEX\n",
    "from llava.conversation import conv_templates\n",
    "\n",
    "import numpy as np\n",
    "import copy\n",
    "import warnings\n",
    "from decord import VideoReader, cpu\n",
    "\n",
    "warnings.filterwarnings(\"ignore\")\n",
    "\n",
    "model_base =  None# \"amew0/llava-qwen-ov-s2-1016_100248\"\n",
    "model_name = \"llava_qwen\"\n",
    "device_map = {\"\":0}\n",
    "model_path = \"lmms-lab/llava-onevision-qwen2-0.5b-ov\" # \"/dpc/kunf0097/out/checkpoints/lora-llava-qwen-ov-s3-1020_154802\"\n",
    "tokenizer, model, image_processor, max_length = load_pretrained_model_simplified(model_path, model_base, model_name, device_map=device_map, attn_implementation=None)"
   ]
  },
  {
   "cell_type": "code",
   "execution_count": null,
   "metadata": {},
   "outputs": [],
   "source": [
    "model_path = \"lmms-lab/llava-onevision-qwen2-0.5b-ov\"\n",
    "model_name = \"llava_qwen\"\n",
    "model = connect_parent_lm_head(model, model_path, model_name, device_map)\n"
   ]
  },
  {
   "cell_type": "code",
   "execution_count": null,
   "metadata": {},
   "outputs": [],
   "source": [
    "import matplotlib.pyplot as plt\n",
    "a = model.lm_head.weight.data.cpu().numpy()\n",
    "b = a[::a.shape[0]//100,::a.shape[1]//100]\n",
    "plt.imshow(b, cmap=\"gray\")\n",
    "plt.colorbar()\n",
    "plt.show()"
   ]
  },
  {
   "cell_type": "code",
   "execution_count": 6,
   "metadata": {},
   "outputs": [],
   "source": [
    "# save model and tokenizer\n",
    "save_path = \"/dpc/kunf0097/.cache/huggingface/hub/llava-qwen-ov-s3-1020_154802\"\n",
    "model.save_pretrained(save_path)\n",
    "tokenizer.save_pretrained(save_path)"
   ]
  },
  {
   "cell_type": "code",
   "execution_count": 13,
   "metadata": {},
   "outputs": [],
   "source": [
    "ex =  {\n",
    "        \"id\": \"68fdc346-fa5a-45d2-8309-17269f819213\",\n",
    "        \"video\": \"/dpc/kunf0097/data/hwid12/68fdc346-fa5a-45d2-8309-17269f819213.mp4\",\n",
    "        \"conversations\": [\n",
    "            {\n",
    "                \"from\": \"human\",\n",
    "                \"value\": \"<image>\\nWhat is happening here?\"\n",
    "            },\n",
    "            {\n",
    "                \"from\": \"gpt\",\n",
    "                \"value\": \"Accident Severity: 3 (Motorcycle accidents can be severe due to rider vulnerability.)\\nCongestion Severity: 3 (Possible road blockages causing moderate disruption in traffic.)\\nCause: Motorcycle collisions often occur due to sudden lane changes or poor visibility by the other vehicle.\"\n",
    "            }\n",
    "        ]\n",
    "    }"
   ]
  },
  {
   "cell_type": "code",
   "execution_count": 4,
   "metadata": {},
   "outputs": [
    {
     "name": "stdout",
     "output_type": "stream",
     "text": [
      "(16, 720, 1280, 3)\n"
     ]
    }
   ],
   "source": [
    "\n",
    "# Function to extract frames from video\n",
    "def load_video(video_path, max_frames_num):\n",
    "    if type(video_path) == str:\n",
    "        vr = VideoReader(video_path, ctx=cpu(0))\n",
    "    else:\n",
    "        vr = VideoReader(video_path[0], ctx=cpu(0))\n",
    "    total_frame_num = len(vr)\n",
    "    uniform_sampled_frames = np.linspace(0, total_frame_num - 1, max_frames_num, dtype=int)\n",
    "    frame_idx = uniform_sampled_frames.tolist()\n",
    "    spare_frames = vr.get_batch(frame_idx).asnumpy()\n",
    "    return spare_frames  # (frames, height, width, channels)\n",
    "\n",
    "\n",
    "# Load and process video\n",
    "video_path = \"/dpc/kunf0097/data/hwid12/68fdc346-fa5a-45d2-8309-17269f819213.mp4\" #ex[\"video\"]\n",
    "video_frames = load_video(video_path, 16)\n",
    "print(video_frames.shape) # (16, 1024, 576, 3)\n",
    "image_tensors = [] \n",
    "frames = image_processor.preprocess(video_frames, return_tensors=\"pt\")[\"pixel_values\"].half().cuda()\n",
    "image_tensors.append(frames)"
   ]
  },
  {
   "cell_type": "code",
   "execution_count": 18,
   "metadata": {},
   "outputs": [
    {
     "data": {
      "text/plain": [
       "torch.Size([16, 3, 384, 384])"
      ]
     },
     "execution_count": 18,
     "metadata": {},
     "output_type": "execute_result"
    }
   ],
   "source": [
    "image_tensors[0].shape"
   ]
  },
  {
   "cell_type": "code",
   "execution_count": 20,
   "metadata": {},
   "outputs": [
    {
     "name": "stdout",
     "output_type": "stream",
     "text": [
      "(16, 1024, 576, 3)\n",
      "The!! video!!!!!!!!!!!\n"
     ]
    }
   ],
   "source": [
    "\n",
    "# Function to extract frames from video\n",
    "def load_video(video_path, max_frames_num):\n",
    "    if type(video_path) == str:\n",
    "        vr = VideoReader(video_path, ctx=cpu(0))\n",
    "    else:\n",
    "        vr = VideoReader(video_path[0], ctx=cpu(0))\n",
    "    total_frame_num = len(vr)\n",
    "    uniform_sampled_frames = np.linspace(0, total_frame_num - 1, max_frames_num, dtype=int)\n",
    "    frame_idx = uniform_sampled_frames.tolist()\n",
    "    spare_frames = vr.get_batch(frame_idx).asnumpy()\n",
    "    return spare_frames  # (frames, height, width, channels)\n",
    "\n",
    "\n",
    "# Load and process video\n",
    "video_path = \"docs/jobs.mp4\" #ex[\"video\"]\n",
    "video_frames = load_video(video_path, 16)\n",
    "print(video_frames.shape) # (16, 1024, 576, 3)\n",
    "image_tensors = [] \n",
    "frames = image_processor.preprocess(video_frames, return_tensors=\"pt\")[\"pixel_values\"].half().cuda()\n",
    "image_tensors.append(frames)\n",
    "\n",
    "# # Prepare conversation input\n",
    "# conv_template = \"qwen_1_5\"\n",
    "# from llava.constants import IMAGE_TOKEN_INDEX, DEFAULT_IMAGE_TOKEN, DEFAULT_IM_START_TOKEN, DEFAULT_IM_END_TOKEN, IGNORE_INDEX\n",
    "# question = f\"{DEFAULT_IMAGE_TOKEN}\\nDescribe what's happening in this video.\"\n",
    "\n",
    "# conv = copy.deepcopy(conv_templates[conv_template])\n",
    "# conv.append_message(conv.roles[0], question)\n",
    "# conv.append_message(conv.roles[1], None)\n",
    "# prompt_question = conv.get_prompt()\n",
    "\n",
    "# input_ids = tokenizer_image_token(prompt_question, tokenizer, IMAGE_TOKEN_INDEX, return_tensors=\"pt\").unsqueeze(0).to(model.device)\n",
    "# image_sizes = [frame.size for frame in video_frames]\n",
    "\n",
    "# # Generate response\n",
    "# cont = model.generate(\n",
    "#     input_ids,\n",
    "#     images=image_tensors,\n",
    "#     image_sizes=image_sizes,\n",
    "#     do_sample=False,\n",
    "#     temperature=0,\n",
    "#     max_new_tokens=4096,\n",
    "#     modalities=[\"video\"],\n",
    "# )\n",
    "# text_outputs = tokenizer.batch_decode(cont, skip_special_tokens=True)\n",
    "# print(text_outputs[0])\n",
    "\n",
    "# instruction = ex[\"conversations\"][0][\"value\"]\n",
    "# context = ex[\"conversations\"][1][\"value\"]\n",
    "# conv = copy.deepcopy(conv_templates[conv_template])\n",
    "# conv.append_message(conv.roles[0], instruction)\n",
    "# # conv.append_message(conv.roles[0], context)\n",
    "# conv.append_message(conv.roles[1], None)\n",
    "# prompt_question = conv.get_prompt()\n",
    "# print(prompt_question)\n",
    "\n",
    "# input_ids = tokenizer_image_token(prompt_question, tokenizer, IMAGE_TOKEN_INDEX, return_tensors=\"pt\").unsqueeze(0).to(model.device)\n",
    "# image_sizes = [frame.size for frame in video_frames]\n",
    "# print(image_sizes)\n"
   ]
  },
  {
   "cell_type": "code",
   "execution_count": 3,
   "metadata": {},
   "outputs": [
    {
     "name": "stdout",
     "output_type": "stream",
     "text": [
      "(16, 1024, 576, 3)\n",
      "<|im_start|>system\n",
      "You are a helpful assistant.<|im_end|>\n",
      "<|im_start|>user\n",
      "<image>\n",
      "\n",
      "Describe what's happening in this video.<|im_end|>\n",
      "<|im_start|>assistant\n",
      "\n",
      "The video features a person standing on a stage, dressed in dark clothing and holding a smartphone. The background is dark with a large hand reaching towards the screen behind them. As the hand reaches out, it appears to be interacting with the phone, which then zooms into the screen displaying an image of a new iPhone. The text overlay reads 'Is this new?' followed by 'this is the new.' This suggests that the person is explaining or demonstrating something related to the new iPhone.\n"
     ]
    }
   ],
   "source": [
    "# from operator import attrgetter\n",
    "# from llava.model.builder import load_pretrained_model\n",
    "# from llava.mm_utils import get_model_name_from_path, process_images, tokenizer_image_token\n",
    "# from llava.constants import IMAGE_TOKEN_INDEX, DEFAULT_IMAGE_TOKEN, DEFAULT_IM_START_TOKEN, DEFAULT_IM_END_TOKEN, IGNORE_INDEX\n",
    "# from llava.conversation import conv_templates, SeparatorStyle\n",
    "\n",
    "# import torch\n",
    "# import cv2\n",
    "# import numpy as np\n",
    "# from PIL import Image\n",
    "# import requests\n",
    "# import copy\n",
    "# import warnings\n",
    "# from decord import VideoReader, cpu\n",
    "\n",
    "# warnings.filterwarnings(\"ignore\")\n",
    "# # Load the OneVision model\n",
    "# pretrained = \"lmms-lab/llava-onevision-qwen2-0.5b-ov\"\n",
    "# model_name = \"llava_qwen\"\n",
    "# device = \"cuda\"\n",
    "# device_map = \"auto\"\n",
    "# llava_model_args = {\n",
    "#     \"multimodal\": True,\n",
    "#     \"attn_implementation\":None\n",
    "# }\n",
    "# tokenizer, model, image_processor, max_length = load_pretrained_model(pretrained, None, model_name, device_map=device_map, **llava_model_args)\n",
    "\n",
    "# model.eval()\n",
    "\n",
    "\n",
    "# Function to extract frames from video\n",
    "def load_video(video_path, max_frames_num):\n",
    "    if type(video_path) == str:\n",
    "        vr = VideoReader(video_path, ctx=cpu(0))\n",
    "    else:\n",
    "        vr = VideoReader(video_path[0], ctx=cpu(0))\n",
    "    total_frame_num = len(vr)\n",
    "    uniform_sampled_frames = np.linspace(0, total_frame_num - 1, max_frames_num, dtype=int)\n",
    "    frame_idx = uniform_sampled_frames.tolist()\n",
    "    spare_frames = vr.get_batch(frame_idx).asnumpy()\n",
    "    return spare_frames  # (frames, height, width, channels)\n",
    "\n",
    "\n",
    "# Load and process video\n",
    "video_path = \"docs/jobs.mp4\"\n",
    "video_frames = load_video(video_path, 16)\n",
    "print(video_frames.shape) # (16, 1024, 576, 3)\n",
    "image_tensors = []\n",
    "frames = image_processor.preprocess(video_frames, return_tensors=\"pt\")[\"pixel_values\"].half().cuda()\n",
    "image_tensors.append(frames)\n",
    "\n",
    "# Prepare conversation input\n",
    "conv_template = \"qwen_1_5\"\n",
    "question = f\"{DEFAULT_IMAGE_TOKEN}\\n\\nDescribe what's happening in this video.\"\n",
    "\n",
    "conv = copy.deepcopy(conv_templates[conv_template])\n",
    "conv.append_message(conv.roles[0], question)\n",
    "conv.append_message(conv.roles[1], None)\n",
    "prompt_question = conv.get_prompt()\n",
    "print(prompt_question)\n",
    "\n",
    "input_ids = tokenizer_image_token(prompt_question, tokenizer, IMAGE_TOKEN_INDEX, return_tensors=\"pt\").unsqueeze(0).to(device)\n",
    "image_sizes = [frame.size for frame in video_frames]\n",
    "\n",
    "# Generate response\n",
    "cont = model.generate(\n",
    "    input_ids,\n",
    "    images=image_tensors,\n",
    "    image_sizes=image_sizes,\n",
    "    do_sample=False,\n",
    "    temperature=0,\n",
    "    max_new_tokens=40000,\n",
    "    modalities=[\"video\"],\n",
    ")\n",
    "text_outputs = tokenizer.batch_decode(cont, skip_special_tokens=True)\n",
    "print(text_outputs[0])"
   ]
  },
  {
   "cell_type": "code",
   "execution_count": null,
   "metadata": {},
   "outputs": [],
   "source": [
    "import torch\n",
    "from transformers import AutoModelForCausalLM, AutoTokenizer"
   ]
  },
  {
   "cell_type": "code",
   "execution_count": null,
   "metadata": {},
   "outputs": [],
   "source": [
    "name_or_path = \"meta-llama/Llama-3.1-8B-Instruct\"\n",
    "device_map = {\"\":0}\n",
    "model = AutoModelForCausalLM.from_pretrained(name_or_path, device_map=device_map, dtype=torch.float16)\n",
    "tokenizer = AutoTokenizer.from_pretrained(name_or_path)"
   ]
  },
  {
   "cell_type": "code",
   "execution_count": null,
   "metadata": {},
   "outputs": [],
   "source": [
    "\n",
    "import os\n",
    "os.environ[\"TRITON_PTXAS_PATH\"] = \"/dpc/kunf0097/cu-11.8/bin/ptxas\"\n",
    "os.environ[\"TRITON_CUOBJDUMP_PATH\"] = \"/dpc/kunf0097/cu-11.8/bin/cuobjdump\"\n",
    "os.environ[\"TRITON_NVDISASM_PATH\"] = \"/dpc/kunf0097/cu-11.8/bin/nvdisasm\""
   ]
  },
  {
   "cell_type": "code",
   "execution_count": null,
   "metadata": {},
   "outputs": [],
   "source": [
    "from lmdeploy import pipeline\n",
    "from lmdeploy.vl import load_image\n",
    "\n",
    "pipe = pipeline('llava-hf/llava-v1.6-mistral-7b-hf')\n",
    "\n",
    "image = load_image('https://raw.githubusercontent.com/open-mmlab/mmdeploy/main/tests/data/tiger.jpeg')\n",
    "response = pipe(('describe this image', image))\n",
    "print(response)"
   ]
  },
  {
   "cell_type": "code",
   "execution_count": null,
   "metadata": {},
   "outputs": [],
   "source": [
    "import torch\n",
    "def compute_embeddings(paragraph, tokenizer, model):\n",
    "    input_ids = tokenizer(paragraph, return_tensors='pt', truncation=True, padding=True).input_ids.to(model.device)\n",
    "\n",
    "    with torch.no_grad():\n",
    "        outputs = model(input_ids=input_ids, output_hidden_states=True)\n",
    "        hidden_states = outputs.hidden_states\n",
    "        embeddings = hidden_states[-1]  # Get the last hidden state as embeddings\n",
    "\n",
    "    return embeddings[:, -1, :]  # Get the last token's embedding\n",
    "\n",
    "def compare_expected_and_generated(expected_paragraph, generated_paragraph, tokenizer, model, use_ref=True, reference=\" \"):\n",
    "    expected_embeddings = compute_embeddings(expected_paragraph, tokenizer, model)\n",
    "    generated_embeddings = compute_embeddings(generated_paragraph, tokenizer, model)\n",
    "\n",
    "    cos_exp_gen = torch.nn.functional.cosine_similarity(expected_embeddings, generated_embeddings)\n",
    "    if not use_ref:\n",
    "        return cos_exp_gen.item()\n",
    "    \n",
    "    reference_embeddings = compute_embeddings(reference, tokenizer, model)\n",
    "    cos_ref = torch.nn.functional.cosine_similarity(generated_embeddings, reference_embeddings).to(cos_exp_gen.device)\n",
    "    \n",
    "    cosine_similarity = torch.max((cos_exp_gen - cos_ref)/(1 - cos_ref), torch.tensor(0.0).to(cos_exp_gen.device))\n",
    "    \n",
    "    return cosine_similarity.item(z)\n",
    "\n",
    "# Example usage\n",
    "expected_paragraph = \"Hey how are you doing?\"\n",
    "generated_paragraph = \"Are you ok .\"\n",
    "cs = compare_expected_and_generated(expected_paragraph, generated_paragraph, tokenizer, model, use_ref=False)\n",
    "\n",
    "print(f\"Similarity Loss: {cs}\")"
   ]
  },
  {
   "cell_type": "code",
   "execution_count": 28,
   "metadata": {},
   "outputs": [],
   "source": [
    "!python similarity.py out/Qwen2-7B-Instruct/s1_test_llava-qwen-ov-s1-1015_215421.json"
   ]
  },
  {
   "cell_type": "code",
   "execution_count": 9,
   "metadata": {},
   "outputs": [],
   "source": [
    "import matplotlib.pyplot as plt\n",
    "import numpy as np\n",
    "\n",
    "# # s1\n",
    "# classes = ['Base', 'S1_1e', 'S1_10e']\n",
    "# data = [\".7723±.1972\", \".90688±.067088\", \".889768±.0743\"]\n",
    "\n",
    "# s2\n",
    "# classes = ['Base', 'S1_1e', 'S1_10e', 'S2_1e', 'S2_10e']\n",
    "# data = [\".7382±.1638\", \".8727±.0534\", \".88139±.0743\", \".9037±.0386\", \".90348±.06081\"]\n",
    "\n",
    "# s3\n",
    "classes = [\"S3_1e\", \"S3_10e(base S2_1e)\", \"S3_10e\"]\n",
    "data = [\".86385±.0662\", \".85234±.08173\", \".879±.0652\"]\n",
    "\n",
    "# Extracting accuracy and standard deviation from the string\n",
    "accuracies = [float(d.split('±')[0]) for d in data]\n",
    "std_devs = [float(d.split('±')[1]) for d in data]\n",
    "\n",
    "# Plotting the graph\n",
    "fig, ax = plt.subplots()\n",
    "x = np.arange(len(classes))\n",
    "\n",
    "ax.errorbar(\n",
    "    x, accuracies, yerr=std_devs, fmt='o', color='red',\n",
    "    ecolor='black', elinewidth=1, capsize=5, capthick=1\n",
    ")\n",
    "for acc in accuracies:\n",
    "    ax.hlines(y=acc, xmin=0, xmax=len(classes)-1, colors='gray', linestyles='dashed', linewidth=1.5)\n",
    "\n",
    "# Customizing the plot\n",
    "ax.set_xticks(x)\n",
    "ax.set_xticklabels(classes)\n",
    "ax.set_ylim(0.76, 1)  # Extend y-axis slightly above 1 for better visibility\n",
    "# ax.set_xlabel('Classes')\n",
    "ax.set_ylabel('Qwen2 Embedded Cosine Similarity')\n",
    "ax.set_title('Data: Input (A) (S3)')\n",
    "# plt.grid()\n",
    "plt.show()\n"
   ]
  },
  {
   "cell_type": "markdown",
   "metadata": {},
   "source": [
    "#### visualize"
   ]
  },
  {
   "cell_type": "code",
   "execution_count": 3,
   "metadata": {},
   "outputs": [],
   "source": [
    "%pip show graphviz"
   ]
  },
  {
   "cell_type": "code",
   "execution_count": 1,
   "metadata": {},
   "outputs": [],
   "source": [
    "from torchview import draw_graph"
   ]
  },
  {
   "cell_type": "code",
   "execution_count": 18,
   "metadata": {},
   "outputs": [],
   "source": []
  },
  {
   "cell_type": "code",
   "execution_count": null,
   "metadata": {},
   "outputs": [],
   "source": [
    "model_graph = draw_graph(model, input_data=input_ids)\n",
    "\n",
    "model_graph.visual_graph"
   ]
  },
  {
   "cell_type": "code",
   "execution_count": 4,
   "metadata": {},
   "outputs": [
    {
     "name": "stdout",
     "output_type": "stream",
     "text": [
      "/home/kunet.ae/ku5001069/LLaVA-NeXT\n"
     ]
    },
    {
     "name": "stderr",
     "output_type": "stream",
     "text": [
      "/dpc/kunf0097/.conda/envs/llavanext/lib/python3.10/site-packages/IPython/core/magics/osm.py:417: UserWarning: This is now an optional IPython functionality, setting dhist requires you to install the `pickleshare` library.\n",
      "  self.shell.db['dhist'] = compress_dhist(dhist)[-100:]\n"
     ]
    }
   ],
   "source": [
    "cd LLaVA-NeXT/"
   ]
  },
  {
   "cell_type": "code",
   "execution_count": 21,
   "metadata": {},
   "outputs": [],
   "source": [
    "import json\n",
    "with open(\"out/3replicas_2gpu.json\") as f:\n",
    "    data = json.load(f)[\"requests\"]\n",
    "with open(\"out/6replicas_033gpu.json\") as f6:\n",
    "    data6 = json.load(f6)[\"requests\"]\n",
    "with open(\"out/9replicas_16_9gpu.json\") as f9:\n",
    "    data9 = json.load(f9)"
   ]
  },
  {
   "cell_type": "code",
   "execution_count": 30,
   "metadata": {},
   "outputs": [
    {
     "data": {
      "image/png": "[encoded data removed]",
      "text/plain": [
       "<Figure size 640x480 with 1 Axes>"
      ]
     },
     "metadata": {},
     "output_type": "display_data"
    }
   ],
   "source": [
    "import matplotlib.pyplot as plt\n",
    "# Extracting values\n",
    "x = [d[\"total_requests\"] for d in data]\n",
    "x6 = [d[\"total_requests\"] for d in data6]\n",
    "# x9 = [d[\"total_requests\"] for d in data9]\n",
    "\n",
    "y = [d[\"average_latency\"] for d in data]\n",
    "y6 = [d[\"average_latency\"] for d in data6]\n",
    "# y9 = [d[\"average_latency\"] for d in data9]\n",
    "\n",
    "yerr = [\n",
    "    [y_i - d[\"min_latency\"] for y_i, d in zip(y, data)],  # Lower error\n",
    "    [d[\"max_latency\"] - y_i for y_i, d in zip(y, data)]   # Upper error\n",
    "]\n",
    "yerr6 = [\n",
    "    [y_i - d[\"min_latency\"] for y_i, d in zip(y6, data6)],  # Lower error\n",
    "    [d[\"max_latency\"] - y_i for y_i, d in zip(y6, data6)]   # Upper error\n",
    "]\n",
    "# yerr9 = [\n",
    "#     [y_i - d[\"min_latency\"] for y_i, d in zip(y9, data9)],  # Lower error\n",
    "#     [d[\"max_latency\"] - y_i for y_i, d in zip(y9, data9)]   # Upper error\n",
    "# ]\n",
    "\n",
    "# Plotting\n",
    "plt.errorbar(x, y, yerr=yerr, fmt='o', color='red', ecolor='red', capsize=5, label='3 replicas')\n",
    "plt.errorbar(x6, y6, yerr=yerr6, fmt='o', color='blue', ecolor='blue', capsize=5, label='6 replicas')\n",
    "# plt.errorbar(x9, y9, yerr=yerr9, fmt='o', color='green', ecolor='green', capsize=5, label='9 replicas')\n",
    "\n",
    "# plt.plot(x, y, color='red', linestyle='-', linewidth=2)\n",
    "# plt.plot(x6, y6, color='blue', linestyle='-', linewidth=2)\n",
    "# plt.plot(x9, y9, color='green', linestyle='-', linewidth=2)\n",
    "# Adding labels and title\n",
    "plt.xlabel('Requests')\n",
    "plt.ylabel('Response Time')\n",
    "plt.title('Response Time')\n",
    "plt.legend()\n",
    "\n",
    "# Displaying the plot\n",
    "plt.show()"
   ]
  }
 ],
 "metadata": {
  "kernelspec": {
   "display_name": "Python 3 (ipykernel)",
   "language": "python",
   "name": "python3"
  },
  "language_info": {
   "codemirror_mode": {
    "name": "ipython",
    "version": 3
   },
   "file_extension": ".py",
   "mimetype": "text/x-python",
   "name": "python",
   "nbconvert_exporter": "python",
   "pygments_lexer": "ipython3",
   "version": "3.10.14"
  },
  "vscode": {
   "interpreter": {
    "hash": "31f2aee4e71d21fbe5cf8b01ff0e069b9275f58929596ceb00d14d90e3e16cd6"
   }
  }
 },
 "nbformat": 4,
 "nbformat_minor": 2
}
