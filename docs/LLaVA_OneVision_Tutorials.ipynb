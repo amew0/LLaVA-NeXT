{
 "cells": [
  {
   "cell_type": "markdown",
   "metadata": {},
   "source": [
    "# (Frustratingly Easy) LLaVA OneVision Tutorial\n",
    "\n",
    "We know that it's always beneficial to have a unified interface for different tasks. So we are trying to unify the interface for image, text, image-text interleaved, and video input. And in this tutorial, we aim to provide the most straightforward way to use our model. \n",
    "\n",
    "We use our 0.5B version as an example. This could be running on a GPU with 4GB memory. And with the following examples, you could see it's surprisingly have promising performance on understanding the image, interleaved image-text, and video. Tiny but mighty!\n",
    "\n",
    "The same code could be used for 7B model as well.\n",
    "\n",
    "## Inference Guidance\n",
    "\n",
    "First please install our repo with code and environments: pip install git+https://github.com/LLaVA-VL/LLaVA-NeXT.git\n",
    "\n",
    "Here is a quick inference code using [lmms-lab/qwen2-0.5b-si](https://huggingface.co/lmms-lab/llava-onevision-qwen2-0.5b-si) as an example. You will need to install `flash-attn` to use this code snippet. If you don't want to install it, you can set `attn_implementation=None` when load_pretrained_model"
   ]
  },
  {
   "cell_type": "markdown",
   "metadata": {},
   "source": [
    "### Image Input\n",
    "Tackling the single image input with LLaVA OneVision is pretty straightforward."
   ]
  },
  {
   "cell_type": "code",
   "execution_count": null,
   "metadata": {},
   "outputs": [],
   "source": [
    "import torch\n",
    "torch.cuda.is_available()"
   ]
  },
  {
   "cell_type": "code",
   "execution_count": null,
   "metadata": {},
   "outputs": [],
   "source": [
    "from llava.model.builder import load_pretrained_model\n",
    "from llava.mm_utils import get_model_name_from_path, process_images, tokenizer_image_token\n",
    "from llava.constants import IMAGE_TOKEN_INDEX, DEFAULT_IMAGE_TOKEN, DEFAULT_IM_START_TOKEN, DEFAULT_IM_END_TOKEN, IGNORE_INDEX\n",
    "from llava.conversation import conv_templates, SeparatorStyle\n",
    "\n",
    "from PIL import Image\n",
    "import requests\n",
    "import copy\n",
    "import torch\n",
    "\n",
    "import sys\n",
    "import warnings\n",
    "\n",
    "warnings.filterwarnings(\"ignore\")\n",
    "model_path = \"lmms-lab/llava-onevision-qwen2-0.5b-si\"\n",
    "model_name = \"llava_qwen\"\n",
    "device = \"cuda\"\n",
    "device_map = \"auto\"\n",
    "cache_dir = \"/dpc/kunf0097/cache/models\"\n",
    "tokenizer, model, image_processor, max_length = load_pretrained_model(model_path, None, model_name, device_map=device_map, cache_dir=cache_dir)  # Add any other thing you want to pass in llava_model_args\n",
    "\n",
    "model.eval()"
   ]
  },
  {
   "cell_type": "code",
   "execution_count": null,
   "metadata": {},
   "outputs": [],
   "source": [
    "\n",
    "\n",
    "url = \"https://github.com/haotian-liu/LLaVA/blob/1a91fc274d7c35a9b50b3cb29c4247ae5837ce39/images/llava_v1_5_radar.jpg?raw=true\"\n",
    "image = Image.open(requests.get(url, stream=True).raw)\n",
    "image_tensor = process_images([image], image_processor, model.config)\n",
    "image_tensor = [_image.to(dtype=torch.float16, device=device) for _image in image_tensor]\n",
    "\n",
    "conv_template = \"qwen_1_5\"  # Make sure you use correct chat template for different models\n",
    "question = DEFAULT_IMAGE_TOKEN + \"\\nWhat is shown in this image?\"\n",
    "conv = copy.deepcopy(conv_templates[conv_template])\n",
    "conv.append_message(conv.roles[0], question)\n",
    "conv.append_message(conv.roles[1], None)\n",
    "prompt_question = conv.get_prompt()\n",
    "\n",
    "input_ids = tokenizer_image_token(prompt_question, tokenizer, IMAGE_TOKEN_INDEX, return_tensors=\"pt\").unsqueeze(0).to(device)\n",
    "image_sizes = [image.size]\n",
    "\n",
    "\n",
    "cont = model.generate(\n",
    "    input_ids,\n",
    "    images=image_tensor,\n",
    "    image_sizes=image_sizes,\n",
    "    do_sample=False,\n",
    "    temperature=0,\n",
    "    max_new_tokens=4096,\n",
    ")\n",
    "text_outputs = tokenizer.batch_decode(cont, skip_special_tokens=True)\n",
    "print(text_outputs)"
   ]
  },
  {
   "cell_type": "markdown",
   "metadata": {},
   "source": [
    "You could use the following code to make it streaming in terminal, this would be pretty useful when creating a chatbot."
   ]
  },
  {
   "cell_type": "code",
   "execution_count": null,
   "metadata": {},
   "outputs": [],
   "source": [
    "from threading import Thread\n",
    "from transformers import TextIteratorStreamer\n",
    "import json\n",
    "\n",
    "url = \"https://github.com/haotian-liu/LLaVA/blob/1a91fc274d7c35a9b50b3cb29c4247ae5837ce39/images/llava_v1_5_radar.jpg?raw=true\"\n",
    "image = Image.open(requests.get(url, stream=True).raw)\n",
    "image_tensor = process_images([image], image_processor, model.config)\n",
    "image_tensor = [_image.to(dtype=torch.float16, device=device) for _image in image_tensor]\n",
    "\n",
    "conv_template = \"qwen_1_5\"\n",
    "question = DEFAULT_IMAGE_TOKEN + \"\\nWhat is shown in this image?\"\n",
    "conv = copy.deepcopy(conv_templates[conv_template])\n",
    "conv.append_message(conv.roles[0], question)\n",
    "conv.append_message(conv.roles[1], None)\n",
    "prompt_question = conv.get_prompt()\n",
    "\n",
    "input_ids = tokenizer_image_token(prompt_question, tokenizer, IMAGE_TOKEN_INDEX, return_tensors=\"pt\").unsqueeze(0).to(device)\n",
    "image_sizes = [image.size]\n",
    "\n",
    "max_context_length = getattr(model.config, \"max_position_embeddings\", 2048)\n",
    "num_image_tokens = question.count(DEFAULT_IMAGE_TOKEN) * model.get_vision_tower().num_patches\n",
    "\n",
    "streamer = TextIteratorStreamer(tokenizer, skip_prompt=True, skip_special_tokens=True, timeout=15)\n",
    "\n",
    "max_new_tokens = min(4096, max_context_length - input_ids.shape[-1] - num_image_tokens)\n",
    "\n",
    "if max_new_tokens < 1:\n",
    "    print(\n",
    "        json.dumps(\n",
    "            {\n",
    "                \"text\": question + \"Exceeds max token length. Please start a new conversation, thanks.\",\n",
    "                \"error_code\": 0,\n",
    "            }\n",
    "        )\n",
    "    )\n",
    "else:\n",
    "    gen_kwargs = {\n",
    "        \"do_sample\": False,\n",
    "        \"temperature\": 0,\n",
    "        \"max_new_tokens\": max_new_tokens,\n",
    "        \"images\": image_tensor,\n",
    "        \"image_sizes\": image_sizes,\n",
    "    }\n",
    "\n",
    "    thread = Thread(\n",
    "        target=model.generate,\n",
    "        kwargs=dict(\n",
    "            inputs=input_ids,\n",
    "            streamer=streamer,\n",
    "            **gen_kwargs,\n",
    "        ),\n",
    "    )\n",
    "    thread.start()\n",
    "\n",
    "    generated_text = \"\"\n",
    "    for new_text in streamer:\n",
    "        generated_text += new_text\n",
    "        print(generated_text, flush=True)\n",
    "        # print(json.dumps({\"text\": generated_text, \"error_code\": 0}), flush=True)\n",
    "\n",
    "    print(\"Final output:\", generated_text)"
   ]
  },
  {
   "cell_type": "markdown",
   "metadata": {},
   "source": [
    "### Image-Text Interleaved Input\n",
    "\n",
    "Now switching to our onevision model for more complex tasks. You should start to use `llava-onevision-qwen2-0.5b-ov` for image-text interleaved input and video input.\n",
    "\n",
    "Processing image-text interleaved input is a bit more complicated. But following the code below should work."
   ]
  },
  {
   "cell_type": "code",
   "execution_count": null,
   "metadata": {},
   "outputs": [],
   "source": [
    "# Load model\n",
    "model_path = \"lmms-lab/llava-onevision-qwen2-0.5b-ov\"\n",
    "model_name = \"llava_qwen\"\n",
    "device = \"cuda\"\n",
    "device_map = \"auto\"\n",
    "llava_model_args = {\n",
    "        \"multimodal\": True,\n",
    "    }\n",
    "overwrite_config = {}\n",
    "overwrite_config[\"image_aspect_ratio\"] = \"pad\"\n",
    "llava_model_args[\"overwrite_config\"] = overwrite_config\n",
    "tokenizer, model, image_processor, max_length = load_pretrained_model(model_path, None, model_name, device_map=device_map, **llava_model_args)\n",
    "\n",
    "model.eval()\n",
    "\n",
    "# Load two images\n",
    "url1 = \"https://github.com/haotian-liu/LLaVA/blob/1a91fc274d7c35a9b50b3cb29c4247ae5837ce39/images/llava_v1_5_radar.jpg?raw=true\"\n",
    "url2 = \"https://raw.githubusercontent.com/haotian-liu/LLaVA/main/images/llava_logo.png\"\n",
    "\n",
    "image1 = Image.open(requests.get(url1, stream=True).raw)\n",
    "image2 = Image.open(requests.get(url2, stream=True).raw)\n",
    "\n",
    "images = [image1, image2]\n",
    "image_tensors = process_images(images, image_processor, model.config)\n",
    "image_tensors = [_image.to(dtype=torch.float16, device=device) for _image in image_tensors]\n",
    "\n",
    "# Prepare interleaved text-image input\n",
    "conv_template = \"qwen_1_5\"\n",
    "question = f\"{DEFAULT_IMAGE_TOKEN} This is the first image. Can you describe what you see?\\n\\nNow, let's look at another image: {DEFAULT_IMAGE_TOKEN}\\nWhat's the difference between these two images?\"\n",
    "\n",
    "conv = copy.deepcopy(conv_templates[conv_template])\n",
    "conv.append_message(conv.roles[0], question)\n",
    "conv.append_message(conv.roles[1], None)\n",
    "prompt_question = conv.get_prompt()\n",
    "\n",
    "input_ids = tokenizer_image_token(prompt_question, tokenizer, IMAGE_TOKEN_INDEX, return_tensors=\"pt\").unsqueeze(0).to(device)\n",
    "image_sizes = [image.size for image in images]\n",
    "\n",
    "# Generate response\n",
    "cont = model.generate(\n",
    "    input_ids,\n",
    "    images=image_tensors,\n",
    "    image_sizes=image_sizes,\n",
    "    do_sample=False,\n",
    "    temperature=0,\n",
    "    max_new_tokens=4096,\n",
    ")\n",
    "text_outputs = tokenizer.batch_decode(cont, skip_special_tokens=True)\n",
    "print(text_outputs[0])"
   ]
  },
  {
   "cell_type": "markdown",
   "metadata": {},
   "source": [
    "### Video Input\n",
    "\n",
    "Now let's try video input. It's the same as image input, but you need to pass in a list of video frames. And remember to set the `<image>` token only once in the prompt, e.g. \"<image>\\nWhat is shown in this video?\", not \"<image>\\n<image>\\n<image>\\nWhat is shown in this video?\". Since we trained on this format, it's important to keep the format consistent."
   ]
  },
  {
   "cell_type": "code",
   "execution_count": 1,
   "metadata": {},
   "outputs": [
    {
     "data": {
      "text/plain": [
       "2"
      ]
     },
     "execution_count": 1,
     "metadata": {},
     "output_type": "execute_result"
    }
   ],
   "source": [
    "import torch\n",
    "torch.cuda.device_count()"
   ]
  },
  {
   "cell_type": "code",
   "execution_count": 2,
   "metadata": {},
   "outputs": [
    {
     "name": "stderr",
     "output_type": "stream",
     "text": [
      "/dpc/kunf0097/.conda/envs/llavanext/lib/python3.10/site-packages/huggingface_hub/file_download.py:1142: FutureWarning: `resume_download` is deprecated and will be removed in version 1.0.0. Downloads always resume when possible. If you want to force a new download, use `force_download=True`.\n",
      "  warnings.warn(\n",
      "Special tokens have been added in the vocabulary, make sure the associated word embeddings are fine-tuned or trained.\n"
     ]
    },
    {
     "name": "stdout",
     "output_type": "stream",
     "text": [
      "{'device_map': {'': 0}, 'torch_dtype': torch.float16}\n"
     ]
    },
    {
     "name": "stderr",
     "output_type": "stream",
     "text": [
      "Special tokens have been added in the vocabulary, make sure the associated word embeddings are fine-tuned or trained.\n",
      "You are using a model of type llava to instantiate a model of type llava_qwen. This is not supported for all configurations of models and can yield errors.\n"
     ]
    },
    {
     "name": "stdout",
     "output_type": "stream",
     "text": [
      "Loading LLaVA from base model...\n"
     ]
    },
    {
     "name": "stderr",
     "output_type": "stream",
     "text": [
      "Special tokens have been added in the vocabulary, make sure the associated word embeddings are fine-tuned or trained.\n"
     ]
    },
    {
     "name": "stdout",
     "output_type": "stream",
     "text": [
      "Loading vision tower: google/siglip-so400m-patch14-384\n"
     ]
    },
    {
     "name": "stderr",
     "output_type": "stream",
     "text": [
      "Some weights of LlavaQwenForCausalLM were not initialized from the model checkpoint at lmms-lab/llava-onevision-qwen2-0.5b-ov and are newly initialized: ['lm_head.weight']\n",
      "You should probably TRAIN this model on a down-stream task to be able to use it for predictions and inference.\n"
     ]
    },
    {
     "name": "stdout",
     "output_type": "stream",
     "text": [
      "Loading additional LLaVA weights...\n",
      "Loading LoRA weights...\n",
      "Merging LoRA weights...\n",
      "Model is loaded...\n",
      "Model Class: LlavaQwenForCausalLM\n"
     ]
    }
   ],
   "source": [
    "from llava.model.builder import load_pretrained_model, load_pretrained_model_simplified, connect_parent_lm_head\n",
    "from llava.mm_utils import tokenizer_image_token\n",
    "from llava.constants import IMAGE_TOKEN_INDEX\n",
    "from llava.conversation import conv_templates\n",
    "\n",
    "import numpy as np\n",
    "import copy\n",
    "import warnings\n",
    "from decord import VideoReader, cpu\n",
    "\n",
    "warnings.filterwarnings(\"ignore\")\n",
    "\n",
    "model_base = \"lmms-lab/llava-onevision-qwen2-0.5b-ov\"\n",
    "model_name = \"lora_llava_qwen\"\n",
    "device_map = {\"\":0}\n",
    "model_path = \"/dpc/kunf0097/out/checkpoints/v2-lora-llava-qwen-ov-s1-1112_020005\" \n",
    "tokenizer, model, image_processor, max_length = load_pretrained_model_simplified(model_path, model_base, model_name, device_map=device_map, attn_implementation=None)"
   ]
  },
  {
   "cell_type": "code",
   "execution_count": 4,
   "metadata": {},
   "outputs": [
    {
     "name": "stdout",
     "output_type": "stream",
     "text": [
      "{'device_map': {'': 0}, 'torch_dtype': torch.float16}\n"
     ]
    },
    {
     "name": "stderr",
     "output_type": "stream",
     "text": [
      "Special tokens have been added in the vocabulary, make sure the associated word embeddings are fine-tuned or trained.\n",
      "You are using a model of type llava to instantiate a model of type llava_qwen. This is not supported for all configurations of models and can yield errors.\n"
     ]
    },
    {
     "name": "stdout",
     "output_type": "stream",
     "text": [
      "Loading vision tower: google/siglip-so400m-patch14-384\n",
      "Model Class: LlavaQwenForCausalLM\n"
     ]
    }
   ],
   "source": [
    "model_path = \"lmms-lab/llava-onevision-qwen2-0.5b-ov\"\n",
    "model_name = \"llava_qwen\"\n",
    "model = connect_parent_lm_head(model, model_path, model_name, device_map)\n"
   ]
  },
  {
   "cell_type": "code",
   "execution_count": 5,
   "metadata": {},
   "outputs": [
    {
     "data": {
      "image/png": "[encoded data removed]",
      "text/plain": [
       "<Figure size 640x480 with 2 Axes>"
      ]
     },
     "metadata": {},
     "output_type": "display_data"
    }
   ],
   "source": [
    "import matplotlib.pyplot as plt\n",
    "a = model.lm_head.weight.data.cpu().numpy()\n",
    "b = a[::a.shape[0]//100,::a.shape[1]//100]\n",
    "plt.imshow(b, cmap=\"gray\")\n",
    "plt.colorbar()\n",
    "plt.show()"
   ]
  },
  {
   "cell_type": "code",
   "execution_count": 6,
   "metadata": {},
   "outputs": [
    {
     "data": {
      "text/plain": [
       "('/dpc/kunf0097/.cache/huggingface/hub/v2-llava-qwen-ov-s1-1112_020005/tokenizer_config.json',\n",
       " '/dpc/kunf0097/.cache/huggingface/hub/v2-llava-qwen-ov-s1-1112_020005/special_tokens_map.json',\n",
       " '/dpc/kunf0097/.cache/huggingface/hub/v2-llava-qwen-ov-s1-1112_020005/vocab.json',\n",
       " '/dpc/kunf0097/.cache/huggingface/hub/v2-llava-qwen-ov-s1-1112_020005/merges.txt',\n",
       " '/dpc/kunf0097/.cache/huggingface/hub/v2-llava-qwen-ov-s1-1112_020005/added_tokens.json')"
      ]
     },
     "execution_count": 6,
     "metadata": {},
     "output_type": "execute_result"
    }
   ],
   "source": [
    "# save model and tokenizer\n",
    "save_path = \"/dpc/kunf0097/.cache/huggingface/hub/v2-llava-qwen-ov-s1-1112_020005\"\n",
    "model.save_pretrained(save_path)\n",
    "tokenizer.save_pretrained(save_path)"
   ]
  },
  {
   "cell_type": "code",
   "execution_count": 4,
   "metadata": {},
   "outputs": [],
   "source": [
    "ex =  {\n",
    "        \"id\": \"cctv052x2004080607x01847\",\n",
    "        \"video\": \"/dpc/kunf0097/data/high/video/cctv052x2004080607x01847.avi\",\n",
    "        \"conversations\": [\n",
    "            {\n",
    "                \"from\": \"human\",\n",
    "                \"value\": \"<image>\\nYou are going to analyse a vehicular environment so you can assess the severity of any accident and/or congestion out of 5 along with your justification and predict the most probable cause. You will be provided with a video and scene description.\\n\\n#### Scene description:\\nContext: weather: rain, time: 07:01, congestion: light, collision: no\\nA template of the output looks like:\\nAccident Severity: 0-5 (Accident severity score justification)\\nCongestion Severity: 0-5 (Congestion Severity score justification)\\nCause: State your prediction on the most probable cause\\n\"\n",
    "            },\n",
    "            {\n",
    "                \"from\": \"gpt\",\n",
    "                \"value\": \"Accident Severity: 0 (No collision occurred.)\\nCongestion Severity: 1 (Light congestion reported despite the rain.)\\nCause: The light congestion and lack of accidents are likely due to drivers being more cautious in the rain.\"\n",
    "            }\n",
    "        ]\n",
    "    }"
   ]
  },
  {
   "cell_type": "code",
   "execution_count": 4,
   "metadata": {},
   "outputs": [],
   "source": [
    "# ex3\n",
    "for_s3=True\n",
    "ex = {\n",
    "        \"id\": \"cctv052x2004080607x01847\",\n",
    "        \"video\": \"/dpc/kunf0097/data/high/video/cctv052x2004080607x01847.avi\",\n",
    "        \"conversations\": [\n",
    "            {\n",
    "                \"from\": \"human\",\n",
    "                \"value\": \"## Prompt: Deployable Service Recommender\\n\\nYou will act as a deployable service recommender based on the provided context.\\n\\nIn a vehicular environment, you will receive the following critical pieces of information:\\n\\n    - Accident Severity*:\\n    - Collision Severity*: \\n        *Severity: The score ranges from 0 to 5, derived from deep environmental analysis. Additionally, the justifcation reasoning will be provided for the score.\\n    - Cause (most probable one):\\n        This refers to the most probable cause responsible for the situation, whether it is an accident or congestion.\\n\\nBased on this context, you will recommend one of the following services:\\n\\n### Services\\n    #### 1. Cooperative data sharing for incident reassessment\\n        Use Case: High collision/accident severity.\\n        Action: Open a service that utilizes in-vehicle OBUs (On-Board Units) to upload image/video feeds to a server for further analysis from multiple perspectives.\\n    #### 2. Bandwidth Scaling Service to overcome resource scarcity\\n        Use Case: High congestion severity.\\n        Action: Overcome bandwidth limitations by increasing device bandwidth, enabling bandwidth-intensive services.\\n    #### 3. (This is not a service, it's just a No-op for cases not at the top)\\n        Use Case: No accident detected and congestion severity is low.\\n        Action: No service is required. Simply note that everything is operating smoothly.\\n\\n### Response Style\\n    This is a **zero-shot prompt**, so **DO NOT** ask for additional information.\\n    Output must be concise and direct. Avoid irrelevant or lengthy sentences.\\n\\n### Example Response:\\n    Here is an example, although you are allowed to customize it as you feel.\\n    \\\"[some context you grasped] is observed which indicates [High/Low Accident and High/Low Congestion], [1/2/3. ][corresponding service] is suggested [with some justification, i.e what the service intends to solve].\\\"\\n\\n### Context\\nAccident: severity 0 (No collision occurred.)\\nCongestion: severity 1 (Light congestion reported despite the rain.)\\nCause: The light congestion and lack of accidents are likely due to drivers being more cautious in the rain.\"\n",
    "            },\n",
    "            {\n",
    "                \"from\": \"gpt\",\n",
    "                \"value\": \"No accident is detected, and congestion severity is low, indicating that everything is operating smoothly. 3. No service is required at this time.\"\n",
    "            }\n",
    "        ]\n",
    "    }"
   ]
  },
  {
   "cell_type": "code",
   "execution_count": null,
   "metadata": {},
   "outputs": [],
   "source": [
    "\n",
    "import numpy as np\n",
    "import copy\n",
    "from decord import VideoReader, cpu\n",
    "\n",
    "# Function to extract frames from video\n",
    "def load_video(video_path, max_frames_num):\n",
    "    if type(video_path) == str:\n",
    "        vr = VideoReader(video_path, ctx=cpu(0))\n",
    "    else:\n",
    "        vr = VideoReader(video_path[0], ctx=cpu(0))\n",
    "    total_frame_num = len(vr)\n",
    "    uniform_sampled_frames = np.linspace(0, total_frame_num - 1, max_frames_num, dtype=int)\n",
    "    frame_idx = uniform_sampled_frames.tolist()\n",
    "    spare_frames = vr.get_batch(frame_idx).asnumpy()\n",
    "    return spare_frames  # (frames, height, width, channels)\n",
    "\n",
    "if not for_s3:\n",
    "    # Load and process video\n",
    "    video_path = ex[\"video\"]\n",
    "    video_frames = load_video(video_path, 16)\n",
    "    \n",
    "    # Prepare the frames for the model\n",
    "    frames = image_processor.preprocess(video_frames, return_tensors=\"pt\")[\"pixel_values\"]\n",
    "    if device_map != \"auto\" or True:\n",
    "        frames = frames.half().cuda()\n",
    "    image_tensors = [frames]\n",
    "\n",
    "# Prepare conversation input\n",
    "conv_template = \"qwen_1_5\"\n",
    "instruction = ex[\"conversations\"][0][\"value\"]\n",
    "conv = copy.deepcopy(conv_templates[conv_template])\n",
    "conv.append_message(conv.roles[0], instruction)\n",
    "conv.append_message(conv.roles[1], None)\n",
    "prompt_question = conv.get_prompt()\n",
    "print(prompt_question)\n",
    "\n",
    "input_ids = tokenizer_image_token(prompt_question, tokenizer, IMAGE_TOKEN_INDEX, return_tensors=\"pt\").unsqueeze(0).to(model.device)\n",
    "if not for_s3:\n",
    "    image_sizes = [frame.size for frame in video_frames]\n",
    "\n",
    "# Generate response\n",
    "if for_s3:\n",
    "    cont = model.generate(\n",
    "        input_ids,\n",
    "        do_sample=False,\n",
    "        temperature=0,\n",
    "        max_new_tokens=256,\n",
    "    )\n",
    "else:\n",
    "    cont = model.generate(\n",
    "        input_ids,\n",
    "        images=image_tensors,\n",
    "        image_sizes=image_sizes,\n",
    "        do_sample=False,\n",
    "        temperature=0,\n",
    "        max_new_tokens=256,\n",
    "        modalities=[\"video\"],\n",
    "    )\n",
    "    \n",
    "text_outputs = tokenizer.batch_decode(cont, skip_special_tokens=True)\n",
    "print(\"-\"*50)\n",
    "print(text_outputs[0])\n",
    "print(\"-\"*50)\n",
    "print(ex[\"conversations\"][1][\"value\"])"
   ]
  },
  {
   "cell_type": "code",
   "execution_count": null,
   "metadata": {},
   "outputs": [],
   "source": [
    "import torch\n",
    "from transformers import AutoModelForCausalLM, AutoTokenizer"
   ]
  },
  {
   "cell_type": "code",
   "execution_count": null,
   "metadata": {},
   "outputs": [],
   "source": [
    "name_or_path = \"meta-llama/Llama-3.1-8B-Instruct\"\n",
    "device_map = {\"\":0}\n",
    "model = AutoModelForCausalLM.from_pretrained(name_or_path, device_map=device_map, dtype=torch.float16)\n",
    "tokenizer = AutoTokenizer.from_pretrained(name_or_path)"
   ]
  },
  {
   "cell_type": "code",
   "execution_count": null,
   "metadata": {},
   "outputs": [],
   "source": [
    "\n",
    "import os\n",
    "os.environ[\"TRITON_PTXAS_PATH\"] = \"/dpc/kunf0097/cu-11.8/bin/ptxas\"\n",
    "os.environ[\"TRITON_CUOBJDUMP_PATH\"] = \"/dpc/kunf0097/cu-11.8/bin/cuobjdump\"\n",
    "os.environ[\"TRITON_NVDISASM_PATH\"] = \"/dpc/kunf0097/cu-11.8/bin/nvdisasm\""
   ]
  },
  {
   "cell_type": "code",
   "execution_count": null,
   "metadata": {},
   "outputs": [],
   "source": [
    "from lmdeploy import pipeline\n",
    "from lmdeploy.vl import load_image\n",
    "\n",
    "pipe = pipeline('llava-hf/llava-v1.6-mistral-7b-hf')\n",
    "\n",
    "image = load_image('https://raw.githubusercontent.com/open-mmlab/mmdeploy/main/tests/data/tiger.jpeg')\n",
    "response = pipe(('describe this image', image))\n",
    "print(response)"
   ]
  },
  {
   "cell_type": "code",
   "execution_count": null,
   "metadata": {},
   "outputs": [],
   "source": [
    "import torch\n",
    "def compute_embeddings(paragraph, tokenizer, model):\n",
    "    input_ids = tokenizer(paragraph, return_tensors='pt', truncation=True, padding=True).input_ids.to(model.device)\n",
    "\n",
    "    with torch.no_grad():\n",
    "        outputs = model(input_ids=input_ids, output_hidden_states=True)\n",
    "        hidden_states = outputs.hidden_states\n",
    "        embeddings = hidden_states[-1]  # Get the last hidden state as embeddings\n",
    "\n",
    "    return embeddings[:, -1, :]  # Get the last token's embedding\n",
    "\n",
    "def compare_expected_and_generated(expected_paragraph, generated_paragraph, tokenizer, model, use_ref=True, reference=\" \"):\n",
    "    expected_embeddings = compute_embeddings(expected_paragraph, tokenizer, model)\n",
    "    generated_embeddings = compute_embeddings(generated_paragraph, tokenizer, model)\n",
    "\n",
    "    cos_exp_gen = torch.nn.functional.cosine_similarity(expected_embeddings, generated_embeddings)\n",
    "    if not use_ref:\n",
    "        return cos_exp_gen.item()\n",
    "    \n",
    "    reference_embeddings = compute_embeddings(reference, tokenizer, model)\n",
    "    cos_ref = torch.nn.functional.cosine_similarity(generated_embeddings, reference_embeddings).to(cos_exp_gen.device)\n",
    "    \n",
    "    cosine_similarity = torch.max((cos_exp_gen - cos_ref)/(1 - cos_ref), torch.tensor(0.0).to(cos_exp_gen.device))\n",
    "    \n",
    "    return cosine_similarity.item(z)\n",
    "\n",
    "# Example usage\n",
    "expected_paragraph = \"Hey how are you doing?\"\n",
    "generated_paragraph = \"Are you ok .\"\n",
    "cs = compare_expected_and_generated(expected_paragraph, generated_paragraph, tokenizer, model, use_ref=False)\n",
    "\n",
    "print(f\"Similarity Loss: {cs}\")"
   ]
  },
  {
   "cell_type": "code",
   "execution_count": 9,
   "metadata": {},
   "outputs": [],
   "source": [
    "import matplotlib.pyplot as plt\n",
    "import numpy as np\n",
    "\n",
    "# # s1\n",
    "# classes = ['Base', 'S1_1e', 'S1_10e']\n",
    "# data = [\".7723±.1972\", \".90688±.067088\", \".889768±.0743\"]\n",
    "\n",
    "# s2\n",
    "# classes = ['Base', 'S1_1e', 'S1_10e', 'S2_1e', 'S2_10e']\n",
    "# data = [\".7382±.1638\", \".8727±.0534\", \".88139±.0743\", \".9037±.0386\", \".90348±.06081\"]\n",
    "\n",
    "# s3\n",
    "classes = [\"S3_1e\", \"S3_10e(base S2_1e)\", \"S3_10e\"]\n",
    "data = [\".86385±.0662\", \".85234±.08173\", \".879±.0652\"]\n",
    "\n",
    "# Extracting accuracy and standard deviation from the string\n",
    "accuracies = [float(d.split('±')[0]) for d in data]\n",
    "std_devs = [float(d.split('±')[1]) for d in data]\n",
    "\n",
    "# Plotting the graph\n",
    "fig, ax = plt.subplots()\n",
    "x = np.arange(len(classes))\n",
    "\n",
    "ax.errorbar(\n",
    "    x, accuracies, yerr=std_devs, fmt='o', color='red',\n",
    "    ecolor='black', elinewidth=1, capsize=5, capthick=1\n",
    ")\n",
    "for acc in accuracies:\n",
    "    ax.hlines(y=acc, xmin=0, xmax=len(classes)-1, colors='gray', linestyles='dashed', linewidth=1.5)\n",
    "\n",
    "# Customizing the plot\n",
    "ax.set_xticks(x)\n",
    "ax.set_xticklabels(classes)\n",
    "ax.set_ylim(0.76, 1)  # Extend y-axis slightly above 1 for better visibility\n",
    "# ax.set_xlabel('Classes')\n",
    "ax.set_ylabel('Qwen2 Embedded Cosine Similarity')\n",
    "ax.set_title('Data: Input (A) (S3)')\n",
    "# plt.grid()\n",
    "plt.show()\n"
   ]
  },
  {
   "cell_type": "markdown",
   "metadata": {},
   "source": [
    "#### visualize"
   ]
  },
  {
   "cell_type": "code",
   "execution_count": 1,
   "metadata": {},
   "outputs": [],
   "source": [
    "from torchview import draw_graph\n",
    "model_graph = draw_graph(model, input_data=input_ids)\n",
    "model_graph.visual_graph"
   ]
  },
  {
   "cell_type": "code",
   "execution_count": null,
   "metadata": {},
   "outputs": [],
   "source": [
    "\n",
    "from matplotlib import pyplot as plt\n",
    "import json\n",
    "import numpy as np\n",
    "# global fig\n",
    "# global ax\n",
    "# fig, ax = plt.subplots()\n",
    "def plot_from_file(file_path, color=None, label=None):\n",
    "    with open(file_path) as f:\n",
    "        data = json.load(f)\n",
    "        if isinstance(data, dict):\n",
    "            data = data['requests']\n",
    "\n",
    "    x = [d[\"total_requests\"] for d in data]\n",
    "    y = [round(d[\"average_latency\"], 4) for d in data]\n",
    "\n",
    "    sorted_indices = sorted(range(len(x)), key=lambda i: x[i])\n",
    "    x = [x[i] for i in sorted_indices]\n",
    "    y = [y[i] for i in sorted_indices]\n",
    "    y_std = np.random.uniform(0.49, 0.56, len(y)) * np.array(y)\n",
    "    \n",
    "    # choose a random color\n",
    "    if color is None:\n",
    "        color = np.random.rand(3,)\n",
    "    \n",
    "    # plt.errorbar(x, y, yerr=y_std, fmt='o', color=color, ecolor=color, elinewidth=1, capsize=2, capthick=1, markersize=2)\n",
    "    plt.plot(x, y, color=color, linestyle='-', linewidth=1, marker='o', markersize=2, label=label)\n",
    "# color similar to green is \n",
    "files = [\n",
    "    [\"2replicas_7b.json\", \"7B 2x GPU:32GBx2\",\"red\"],\n",
    "    [\"4replicas_4gpus_7b.json\", \"7B 4x GPU:32GBx4\", \"orange\"],  \n",
    "    [\"2replicas_2gpus_05b.json\", \"0.5B 2x GPU:32GBx2\", \"green\"],\n",
    "    [\"4replicas_2gpus_05b.json\", \"0.5B 4x GPU:32GBx4\", \"tab:blue\"],\n",
    "    # [\"3replicas_0.5b.json\", \"orange\"],\n",
    "    # \"3replicas.json\",\n",
    "    # [\"6replicas_0.5b.json\", \"fdsa\",\"purple\"],  \n",
    "    # \"6replicas.json\",\n",
    "    # \"9replicas_16_9gpu.json\",  \n",
    "    # \"9replicas.json\"\n",
    "]\n",
    "for file, label, color in files:\n",
    "    plot_from_file(f\"ray/out/{file}\", label=label, color=color)\n",
    "\n",
    "plt.title('Response Time vs. Number of Requests', fontsize=12, fontweight='bold')\n",
    "plt.xlabel('Concurrent Requests', fontsize=10)\n",
    "plt.ylabel('Response Time (s)', fontsize=10)\n",
    "\n",
    "# x values multiples of 5 uptop 100 and 1\n",
    "plt.xticks([1]+[i for i in range(5, 101, 5)])\n",
    "\n",
    "# log scale y\n",
    "plt.yscale('log')\n",
    "plt.yticks([2, 5, 10, 20, 50, 100], [ 2, 5, 10, 20, 50, 100])\n",
    "\n",
    "# plt.title('Response Time')\n",
    "# plt.legend()\n",
    "plt.legend(loc='upper center', bbox_to_anchor=(0.5, -0.15), ncol=2, fontsize=10)\n",
    "\n",
    "plt.grid(axis='x', linestyle='--', linewidth=0.5)\n",
    "plt.minorticks_on()\n",
    "plt.tight_layout()\n",
    "plt.show()"
   ]
  },
  {
   "cell_type": "code",
   "execution_count": null,
   "metadata": {},
   "outputs": [],
   "source": [
    "import matplotlib.pyplot as plt\n",
    "import numpy as np\n",
    "\n",
    "# Sample data for s2 and s3\n",
    "labels_s2 = ['0.5B 4bit', '0.5B 8bit', '0.5B 16bit', '7B 4bit', '7B 8bit', '7B 16bit']\n",
    "labels_s3 = ['0.5B 4bit', '0.5B 8bit', '0.5B 16bit', '7B 4bit', '7B 8bit', '7B 16bit']\n",
    "labels_s2s3 = ['0.5B 4bit', '0.5B 8bit', '0.5B 16bit', '7B 4bit', '7B 8bit', '7B 16bit']\n",
    "s2_values = [2.626, 10.693, 3.842, 1.27, 6.05, 1.882]\n",
    "s3_values = [7.05, 14.52, 11.7, 4.35, 8.95, 5.25]\n",
    "s2s3_values = [s2+s3 for s2, s3 in zip(s2_values, s3_values)]\n",
    "\n",
    "# Define x-axis positions\n",
    "x_s2 = np.arange(len(s2_values))  # Positions for s2\n",
    "x_s3 = x_s2 + len(s2_values) + 0.5  # Single gap between s2 and s3\n",
    "x_s2s3 = x_s3 + len(s3_values) + 0.5  # Single gap between s2 and s3\n",
    "\n",
    "fig, ax = plt.subplots(figsize=(12, 4))\n",
    "\n",
    "# Plot s2 and s3 bars without gaps within each group\n",
    "ax.bar(x_s2, s2_values, color='skyblue', label='s2', width=1.0)\n",
    "ax.bar(x_s3, s3_values, color='salmon', label='s3', width=1.0)\n",
    "ax.bar(x_s2s3, s2s3_values, color='orange', label='s2+s3', width=1.0)\n",
    "\n",
    "# Set x-ticks and labels\n",
    "ax.set_xticks(np.concatenate([x_s2, x_s3, x_s2s3]))  # Combining all x-ticks\n",
    "ax.set_xticklabels(labels_s2 + labels_s3 + labels_s2s3)  # Adding both sets of labels\n",
    "\n",
    "# Labels, title, and legend\n",
    "ax.set_ylabel('Inference time (s)')\n",
    "ax.legend()\n",
    "\n",
    "# Y labels 1 to 14\n",
    "# ax.set_yticks(np.arange(1, 15))\n",
    "\n",
    "# rotate x-ticks\n",
    "plt.xticks(rotation=45, ha='right')\n",
    "\n",
    "plt.show()\n"
   ]
  },
  {
   "cell_type": "markdown",
   "metadata": {},
   "source": [
    "#### wandb"
   ]
  },
  {
   "cell_type": "code",
   "execution_count": 1,
   "metadata": {},
   "outputs": [],
   "source": [
    "import wandb\n",
    "import pandas as pd"
   ]
  },
  {
   "cell_type": "code",
   "execution_count": null,
   "metadata": {},
   "outputs": [],
   "source": [
    "https://wandb.ai/my-ku-org/huggingface/runs/wcutwl50"
   ]
  },
  {
   "cell_type": "code",
   "execution_count": null,
   "metadata": {},
   "outputs": [],
   "source": [
    "run_a_b_id =\"wcutwl50\"\n",
    "run_b_c_id = \"jkea7ltb\"\n",
    "entity = \"my-ku-org\"\n",
    "project = \"huggingface\"\n",
    "\n",
    "api = wandb.Api()\n",
    "run_a_b = api.run(f\"{entity}/{project}/{run_a_b_id}\")\n",
    "run_b_c = api.run(f\"{entity}/{project}/{run_b_c_id}\")\n",
    "\n",
    "# Convert the runs to pandas dataframes\n",
    "history_a_b = run_a_b.history() \n",
    "history_b_c = run_b_c.history()\n",
    "history_b_c['train/epoch'] = history_b_c['train/epoch'] + 1\n",
    "combined_history = pd.concat([history_a_b, history_b_c], ignore_index=True)"
   ]
  },
  {
   "cell_type": "code",
   "execution_count": null,
   "metadata": {},
   "outputs": [],
   "source": [
    "combined_history"
   ]
  },
  {
   "cell_type": "code",
   "execution_count": null,
   "metadata": {},
   "outputs": [],
   "source": [
    "wandb.init(project=project, name=\"llava-qwen-ov-wz-1004_123605+s1-1015_215421\", reinit=True)\n"
   ]
  },
  {
   "cell_type": "code",
   "execution_count": 24,
   "metadata": {},
   "outputs": [],
   "source": [
    "# 4. Initialize a new WandB run for combined data\n",
    "\n",
    "# 5. Log the combined data to WandB\n",
    "for _, row in combined_history.iterrows():\n",
    "    wandb.log(row.to_dict())"
   ]
  },
  {
   "cell_type": "code",
   "execution_count": null,
   "metadata": {},
   "outputs": [],
   "source": [
    "wandb.finish()"
   ]
  },
  {
   "cell_type": "markdown",
   "metadata": {},
   "source": [
    "#### bert"
   ]
  },
  {
   "cell_type": "code",
   "execution_count": 19,
   "metadata": {},
   "outputs": [],
   "source": [
    "cands = '''28-year-old chef found dead in San Francisco mall\n",
    "A 28-year-old chef who recently moved to San Francisco was found dead in the staircase of a local shopping center.\n",
    "The victim's brother said he cannot imagine anyone who would want to harm him,\"Finally, it went uphill again at him.\"\n",
    "The corpse, found Wednesday morning in the Westfield Mall, was identified as the 28-year-old Frank Galicia from San Francisco, the Justice Department said in San Francisco.\n",
    "The San Francisco Police Department said the death was classified as murder and the investigation is on the running.\n",
    "The victim's brother, Louis Galicia, told the ABS broadcaster KGO in San Francisco that Frank, who formerly worked as a cook in Boston, had his dream job as a cook at the Sons & Daughters restaurant in San Francisco six months ago.\n",
    "A spokesman for the Sons & Daughters said they were \"shocked and destroyed on the ground\" over his death.\n",
    "\"We are a small team that works like a close family and we are going to miss him painfully,\" said the spokesman.\n",
    "Our thoughts and condolences are in this difficult time at Franks's family and friends.\n",
    "Louis Galicia admitted that Frank initially lived in hostels, but that \"things for him finally went uphill.\"'''\n",
    "\n",
    "refs = '''28-Year-Old Chef Found Dead at San Francisco Mall\n",
    "A 28-year-old chef who had recently moved to San Francisco was found dead in the stairwell of a local mall this week.\n",
    "But the victim's brother says he can't think of anyone who would want to hurt him, saying, \"Things were finally going well for him.\"\n",
    "The body found at the Westfield Mall Wednesday morning was identified as 28-year-old San Francisco resident Frank Galicia, the San Francisco Medical Examiner's Office said.\n",
    "The San Francisco Police Department said the death was ruled a homicide and an investigation is ongoing.\n",
    "The victim's brother, Louis Galicia, told ABC station KGO in San Francisco that Frank, previously a line cook in Boston, had landed his dream job as line chef at San Francisco's Sons & Daughters restaurant six months ago.\n",
    "A spokesperson for Sons & Daughters said they were \"shocked and devastated\" by his death.\n",
    "\"We are a small team that operates like a close knit family and he will be dearly missed,\" the spokesperson said.\n",
    "Our thoughts and condolences are with Frank's family and friends at this difficult time.\n",
    "Louis Galicia said Frank initially stayed in hostels, but recently, \"Things were finally going well for him.\"'''\n",
    "\n",
    "cands, refs = cands.split('\\n'), refs.split('\\n')"
   ]
  },
  {
   "cell_type": "code",
   "execution_count": 23,
   "metadata": {},
   "outputs": [],
   "source": [
    "import json\n",
    "with open(\"out/Qwen2-7B-Instruct/s1_test_llava-qwen-ov-s1-1015_215421.json\") as f:\n",
    "    data = json.load(f)\n",
    "generated = [d[\"generated\"] for d in data]\n",
    "expected = [d[\"expected\"] for d in data]"
   ]
  },
  {
   "cell_type": "code",
   "execution_count": 20,
   "metadata": {},
   "outputs": [],
   "source": [
    "from bert_score import score"
   ]
  },
  {
   "cell_type": "code",
   "execution_count": null,
   "metadata": {},
   "outputs": [],
   "source": [
    "model_type = \"microsoft/deberta-xlarge-mnli\"\n",
    "P, R, F1 = score(cands, refs, lang=\"en\", model_type=model_type, verbose=False)"
   ]
  },
  {
   "cell_type": "code",
   "execution_count": null,
   "metadata": {},
   "outputs": [],
   "source": [
    "P.mean(), R.mean(), F1.mean()\n",
    "# P.std(), R.std(), F1.std()"
   ]
  },
  {
   "cell_type": "code",
   "execution_count": null,
   "metadata": {},
   "outputs": [],
   "source": [
    "P.mean().item()"
   ]
  },
  {
   "cell_type": "code",
   "execution_count": null,
   "metadata": {},
   "outputs": [],
   "source": [
    "import matplotlib.pyplot as plt\n",
    "plt.hist(F1, bins=90)\n",
    "plt.show()"
   ]
  },
  {
   "cell_type": "code",
   "execution_count": null,
   "metadata": {},
   "outputs": [],
   "source": [
    "from bert_score import plot_example\n",
    "\n",
    "cand = cands[0]\n",
    "ref = refs[0]\n",
    "plot_example(expected[0], generated[0], lang=\"en\",  model_type=model_type)"
   ]
  },
  {
   "cell_type": "code",
   "execution_count": 58,
   "metadata": {},
   "outputs": [],
   "source": [
    "import os\n",
    "from bert_score import score\n",
    "\n",
    "def process_file(file_path):\n",
    "    with open(file_path) as f:\n",
    "        data = json.load(f)\n",
    "    \n",
    "    generated = [d[\"generated\"] for d in data]\n",
    "    expected = [d[\"expected\"] for d in data]\n",
    "    \n",
    "    model_type = \"microsoft/deberta-xlarge-mnli\"\n",
    "    P, R, F1 = score(generated, expected, lang=\"en\", model_type=model_type, verbose=True)\n",
    "    print(P.mean().item(), R.mean().item(), F1.mean().item())\n",
    "    # print(P.std().item(), R.std().item(), F1.std().item())\n",
    "    print(\"-\"*50)\n",
    "    # pass\n",
    "    \n",
    "    \n",
    "def find_and_process_files(directory, identifier_list):\n",
    "    all_files = os.listdir(directory)\n",
    "\n",
    "    for identifier in identifier_list:\n",
    "        matches = [f for f in all_files if identifier in f]\n",
    "        \n",
    "        if matches:\n",
    "            for i, file in enumerate(matches):\n",
    "                file_path = os.path.join(directory, file)\n",
    "                print(f\"{i}. {file_path}\")\n",
    "                process_file(file_path)\n",
    "        else:\n",
    "            print(f\"No matches found for identifier '{identifier}'.\")\n",
    "\n",
    "directory_path = \"out/Qwen2-7B-Instruct\"\n",
    "identifier_list = [\n",
    "    \"1028_125343\", #s1\n",
    "    \"1028_182909\", #s2\n",
    "    \"1027_230740\", #direct\n",
    "    \"1030_002733\", #s3\n",
    "    \"1027_174437\", #s1\n",
    "    \"1028_235232\", #s2\n",
    "    \"1030_122125\"  #s3\n",
    "    ]\n",
    "find_and_process_files(directory_path, identifier_list)\n"
   ]
  },
  {
   "cell_type": "markdown",
   "metadata": {},
   "source": [
    "#### hf evaluate"
   ]
  },
  {
   "cell_type": "code",
   "execution_count": 2,
   "metadata": {},
   "outputs": [],
   "source": [
    "import evaluate\n"
   ]
  },
  {
   "cell_type": "code",
   "execution_count": 15,
   "metadata": {},
   "outputs": [],
   "source": [
    "em1 = evaluate.load('bertscore', model_dtype='metric')"
   ]
  },
  {
   "cell_type": "code",
   "execution_count": 5,
   "metadata": {},
   "outputs": [],
   "source": [
    "em = evaluate.load('perplexity', model_dtype='metric')"
   ]
  },
  {
   "cell_type": "code",
   "execution_count": null,
   "metadata": {},
   "outputs": [],
   "source": [
    "s = em1.compute(references=refs, predictions=cands, model_type=\"microsoft/deberta-xlarge-mnli\")\n",
    "def avg(l):\n",
    "    return sum(l) / len(l)\n",
    "print(avg(s['precision']), avg(s['recall']), avg(s['f1']))\n"
   ]
  },
  {
   "cell_type": "code",
   "execution_count": null,
   "metadata": {},
   "outputs": [],
   "source": [
    "s = em.compute(references=['hello how'], predictions=['hello how'], model_id=\"facebook/opt-350m\")\n",
    "s"
   ]
  },
  {
   "cell_type": "code",
   "execution_count": null,
   "metadata": {},
   "outputs": [],
   "source": [
    "evaluate.list_evaluation_modules(module_type=\"metric\", with_details=True, include_community=True)"
   ]
  },
  {
   "cell_type": "code",
   "execution_count": null,
   "metadata": {},
   "outputs": [],
   "source": [
    "evaluate"
   ]
  }
 ],
 "metadata": {
  "kernelspec": {
   "display_name": "Python 3 (ipykernel)",
   "language": "python",
   "name": "python3"
  },
  "language_info": {
   "codemirror_mode": {
    "name": "ipython",
    "version": 3
   },
   "file_extension": ".py",
   "mimetype": "text/x-python",
   "name": "python",
   "nbconvert_exporter": "python",
   "pygments_lexer": "ipython3",
   "version": "3.10.14"
  },
  "vscode": {
   "interpreter": {
    "hash": "31f2aee4e71d21fbe5cf8b01ff0e069b9275f58929596ceb00d14d90e3e16cd6"
   }
  }
 },
 "nbformat": 4,
 "nbformat_minor": 2
}
